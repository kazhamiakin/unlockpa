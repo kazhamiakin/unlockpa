{
 "cells": [
  {
   "cell_type": "code",
   "execution_count": 1,
   "id": "f01548cc-291f-4922-93ed-3df56c2fe606",
   "metadata": {},
   "outputs": [],
   "source": [
    "import mlrun"
   ]
  },
  {
   "cell_type": "code",
   "execution_count": 2,
   "id": "ed16340f-a4d9-4f34-82c2-b1d41ee89c46",
   "metadata": {},
   "outputs": [
    {
     "name": "stdout",
     "output_type": "stream",
     "text": [
      "> 2023-10-02 15:08:04,422 [debug] Project not found in db: {'project_name': 'unlockpa-mlrun'}\n",
      "> 2023-10-02 15:08:04,424 [info] Loading project from path: {'project_name': 'unlockpa-mlrun', 'path': './'}\n",
      "> 2023-10-02 15:08:04,715 [info] Project loaded successfully: {'project_name': 'unlockpa-mlrun', 'path': './', 'stored_in_db': True}\n"
     ]
    }
   ],
   "source": [
    "project = mlrun.get_or_create_project(name=\"unlockpa-mlrun\", context=\"./\")"
   ]
  },
  {
   "cell_type": "code",
   "execution_count": 6,
   "id": "e5b52d13-d123-4b70-aece-fbba9aa946f2",
   "metadata": {},
   "outputs": [
    {
     "data": {
      "text/plain": [
       "<mlrun.projects.project.MlrunProject at 0x7fe679a4b1c0>"
      ]
     },
     "execution_count": 6,
     "metadata": {},
     "output_type": "execute_result"
    }
   ],
   "source": [
    "project.set_source(source=\"git://github.com/kazhamiakin/unlockpa.git#main\", pull_at_runtime=True)\n",
    "project.save()"
   ]
  }
 ],
 "metadata": {
  "kernelspec": {
   "display_name": "Python 3 (ipykernel)",
   "language": "python",
   "name": "python3"
  },
  "language_info": {
   "codemirror_mode": {
    "name": "ipython",
    "version": 3
   },
   "file_extension": ".py",
   "mimetype": "text/x-python",
   "name": "python",
   "nbconvert_exporter": "python",
   "pygments_lexer": "ipython3",
   "version": "3.9.13"
  }
 },
 "nbformat": 4,
 "nbformat_minor": 5
}
